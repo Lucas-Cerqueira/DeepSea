{
 "cells": [
  {
   "cell_type": "code",
   "execution_count": 1,
   "metadata": {
    "collapsed": false
   },
   "outputs": [
    {
     "name": "stdout",
     "output_type": "stream",
     "text": [
      "Loading data..\n",
      "Data loaded\n",
      "Setting parameters\n",
      "... building the model\n",
      "... training\n",
      "epoch 1, minibatch 2500/2500, validation error 9.620000 %\n",
      "     epoch 1, minibatch 2500/2500, test error of best model 10.090000 %\n",
      "epoch 2, minibatch 2500/2500, validation error 8.610000 %\n",
      "     epoch 2, minibatch 2500/2500, test error of best model 8.740000 %\n",
      "epoch 3, minibatch 2500/2500, validation error 8.000000 %\n",
      "     epoch 3, minibatch 2500/2500, test error of best model 8.160000 %\n",
      "epoch 4, minibatch 2500/2500, validation error 7.600000 %\n",
      "     epoch 4, minibatch 2500/2500, test error of best model 7.790000 %\n",
      "epoch 5, minibatch 2500/2500, validation error 7.300000 %\n",
      "     epoch 5, minibatch 2500/2500, test error of best model 7.590000 %\n",
      "epoch 6, minibatch 2500/2500, validation error 7.020000 %\n",
      "     epoch 6, minibatch 2500/2500, test error of best model 7.200000 %\n",
      "epoch 7, minibatch 2500/2500, validation error 6.680000 %\n",
      "     epoch 7, minibatch 2500/2500, test error of best model 6.990000 %\n",
      "epoch 8, minibatch 2500/2500, validation error 6.260000 %\n",
      "     epoch 8, minibatch 2500/2500, test error of best model 6.730000 %\n",
      "epoch 9, minibatch 2500/2500, validation error 5.970000 %\n",
      "     epoch 9, minibatch 2500/2500, test error of best model 6.510000 %\n",
      "epoch 10, minibatch 2500/2500, validation error 5.740000 %\n",
      "     epoch 10, minibatch 2500/2500, test error of best model 6.190000 %\n",
      "epoch 11, minibatch 2500/2500, validation error 5.400000 %\n",
      "     epoch 11, minibatch 2500/2500, test error of best model 5.900000 %\n",
      "epoch 12, minibatch 2500/2500, validation error 5.080000 %\n",
      "     epoch 12, minibatch 2500/2500, test error of best model 5.600000 %\n",
      "epoch 13, minibatch 2500/2500, validation error 4.820000 %\n",
      "     epoch 13, minibatch 2500/2500, test error of best model 5.400000 %\n",
      "epoch 14, minibatch 2500/2500, validation error 4.690000 %\n",
      "     epoch 14, minibatch 2500/2500, test error of best model 5.280000 %\n",
      "epoch 15, minibatch 2500/2500, validation error 4.470000 %\n",
      "     epoch 15, minibatch 2500/2500, test error of best model 5.140000 %\n",
      "epoch 16, minibatch 2500/2500, validation error 4.350000 %\n",
      "     epoch 16, minibatch 2500/2500, test error of best model 4.890000 %\n",
      "epoch 17, minibatch 2500/2500, validation error 4.130000 %\n",
      "     epoch 17, minibatch 2500/2500, test error of best model 4.700000 %\n",
      "epoch 18, minibatch 2500/2500, validation error 4.040000 %\n",
      "     epoch 18, minibatch 2500/2500, test error of best model 4.540000 %\n",
      "epoch 19, minibatch 2500/2500, validation error 3.910000 %\n",
      "     epoch 19, minibatch 2500/2500, test error of best model 4.420000 %\n",
      "epoch 20, minibatch 2500/2500, validation error 3.780000 %\n",
      "     epoch 20, minibatch 2500/2500, test error of best model 4.260000 %\n",
      "epoch 21, minibatch 2500/2500, validation error 3.700000 %\n",
      "     epoch 21, minibatch 2500/2500, test error of best model 4.150000 %\n",
      "epoch 22, minibatch 2500/2500, validation error 3.610000 %\n",
      "     epoch 22, minibatch 2500/2500, test error of best model 4.000000 %\n",
      "epoch 23, minibatch 2500/2500, validation error 3.540000 %\n",
      "     epoch 23, minibatch 2500/2500, test error of best model 3.910000 %\n",
      "epoch 24, minibatch 2500/2500, validation error 3.480000 %\n",
      "     epoch 24, minibatch 2500/2500, test error of best model 3.790000 %\n",
      "epoch 25, minibatch 2500/2500, validation error 3.400000 %\n",
      "     epoch 25, minibatch 2500/2500, test error of best model 3.710000 %\n",
      "epoch 26, minibatch 2500/2500, validation error 3.350000 %\n",
      "     epoch 26, minibatch 2500/2500, test error of best model 3.650000 %\n",
      "epoch 27, minibatch 2500/2500, validation error 3.260000 %\n",
      "     epoch 27, minibatch 2500/2500, test error of best model 3.570000 %\n",
      "epoch 28, minibatch 2500/2500, validation error 3.270000 %\n",
      "epoch 29, minibatch 2500/2500, validation error 3.240000 %\n",
      "     epoch 29, minibatch 2500/2500, test error of best model 3.440000 %\n",
      "epoch 30, minibatch 2500/2500, validation error 3.190000 %\n",
      "     epoch 30, minibatch 2500/2500, test error of best model 3.370000 %\n",
      "epoch 31, minibatch 2500/2500, validation error 3.160000 %\n",
      "     epoch 31, minibatch 2500/2500, test error of best model 3.330000 %\n",
      "epoch 32, minibatch 2500/2500, validation error 3.090000 %\n",
      "     epoch 32, minibatch 2500/2500, test error of best model 3.250000 %\n",
      "epoch 33, minibatch 2500/2500, validation error 3.050000 %\n",
      "     epoch 33, minibatch 2500/2500, test error of best model 3.170000 %\n",
      "epoch 34, minibatch 2500/2500, validation error 3.030000 %\n",
      "     epoch 34, minibatch 2500/2500, test error of best model 3.160000 %\n",
      "epoch 35, minibatch 2500/2500, validation error 3.020000 %\n",
      "     epoch 35, minibatch 2500/2500, test error of best model 3.150000 %\n",
      "epoch 36, minibatch 2500/2500, validation error 2.970000 %\n",
      "     epoch 36, minibatch 2500/2500, test error of best model 3.090000 %\n",
      "epoch 37, minibatch 2500/2500, validation error 2.940000 %\n",
      "     epoch 37, minibatch 2500/2500, test error of best model 3.040000 %\n",
      "epoch 38, minibatch 2500/2500, validation error 2.910000 %\n",
      "     epoch 38, minibatch 2500/2500, test error of best model 3.000000 %\n",
      "epoch 39, minibatch 2500/2500, validation error 2.880000 %\n",
      "     epoch 39, minibatch 2500/2500, test error of best model 2.980000 %\n",
      "epoch 40, minibatch 2500/2500, validation error 2.850000 %\n",
      "     epoch 40, minibatch 2500/2500, test error of best model 2.920000 %\n",
      "epoch 41, minibatch 2500/2500, validation error 2.810000 %\n",
      "     epoch 41, minibatch 2500/2500, test error of best model 2.860000 %\n",
      "epoch 42, minibatch 2500/2500, validation error 2.800000 %\n",
      "     epoch 42, minibatch 2500/2500, test error of best model 2.840000 %\n",
      "epoch 43, minibatch 2500/2500, validation error 2.780000 %\n",
      "     epoch 43, minibatch 2500/2500, test error of best model 2.820000 %\n",
      "epoch 44, minibatch 2500/2500, validation error 2.760000 %\n",
      "     epoch 44, minibatch 2500/2500, test error of best model 2.780000 %\n",
      "epoch 45, minibatch 2500/2500, validation error 2.720000 %\n",
      "     epoch 45, minibatch 2500/2500, test error of best model 2.730000 %\n",
      "epoch 46, minibatch 2500/2500, validation error 2.680000 %\n",
      "     epoch 46, minibatch 2500/2500, test error of best model 2.720000 %\n",
      "epoch 47, minibatch 2500/2500, validation error 2.630000 %\n",
      "     epoch 47, minibatch 2500/2500, test error of best model 2.690000 %\n",
      "epoch 48, minibatch 2500/2500, validation error 2.610000 %\n",
      "     epoch 48, minibatch 2500/2500, test error of best model 2.690000 %\n",
      "epoch 49, minibatch 2500/2500, validation error 2.580000 %\n",
      "     epoch 49, minibatch 2500/2500, test error of best model 2.680000 %\n",
      "epoch 50, minibatch 2500/2500, validation error 2.560000 %\n",
      "     epoch 50, minibatch 2500/2500, test error of best model 2.630000 %\n",
      "Optimization complete. Best validation score of 2.560000 % obtained at iteration 125000, with test performance 2.630000 %\n"
     ]
    },
    {
     "name": "stderr",
     "output_type": "stream",
     "text": [
      "The code for file MultiLayerPerceptron.py ran for 18.56m\n"
     ]
    }
   ],
   "source": [
    "#Teste com MNIST\n",
    "\n",
    "from NeuralNetwork import MultiLayerPerceptron as mlpLib\n",
    "from NeuralNetwork import logistic_sgd\n",
    "import numpy as np\n",
    "import theano\n",
    "import theano.tensor as T\n",
    "\n",
    "mlp = mlpLib.CreateMLP (28*28,500,10)\n",
    "\n",
    "mlp.opts.n_epochs = 50\n",
    "mlp.opts.batch_size = 20\n",
    "\n",
    "datasets = logistic_sgd.load_data ('/home/lucas/Documents/IC/mnist.pkl.gz')\n",
    "\n",
    "#inputs = np.linspace (-10,10,100)\n",
    "#inputs = inputs.reshape (inputs.shape[0],1)\n",
    "#targets = np.sin(inputs) * 0.5\n",
    "#targets = targets.reshape (inputs.shape[0],1)\n",
    "\n",
    "temp = range (100)\n",
    "#np.random.shuffle (temp)\n",
    "\n",
    "#print temp\n",
    "\n",
    "itrain = temp [0:49]\n",
    "itest = temp [50:74]\n",
    "ival = temp [75:99]\n",
    "\n",
    "#print itrain\n",
    "\n",
    "mlpLib.TrainMLP (mlp, datasets, itrain, itest, ival)\n",
    "\n",
    "\n",
    "train_x, train_y = datasets [0]\n",
    "\n",
    "entrada = train_x.get_value()[0,:]\n",
    "entrada = entrada.reshape (1, entrada.shape[0])\n",
    "\n",
    "#mlpLib.SimMLP (mlp,entrada)\n"
   ]
  },
  {
   "cell_type": "code",
   "execution_count": 5,
   "metadata": {
    "collapsed": false
   },
   "outputs": [
    {
     "name": "stdout",
     "output_type": "stream",
     "text": [
      "TensorVariable\n"
     ]
    },
    {
     "data": {
      "text/plain": [
       "array([2, 3], dtype=int32)"
      ]
     },
     "execution_count": 5,
     "metadata": {},
     "output_type": "execute_result"
    }
   ],
   "source": [
    "x = T.ivector('x')\n",
    "print type(x).__name__\n",
    "f = theano.function([x], x+1)\n",
    "\n",
    "f([1, 2])"
   ]
  },
  {
   "cell_type": "code",
   "execution_count": 4,
   "metadata": {
    "collapsed": false
   },
   "outputs": [
    {
     "name": "stdout",
     "output_type": "stream",
     "text": [
      "ndarray\n",
      "(100, 1)\n"
     ]
    }
   ],
   "source": [
    "a = np.linspace (-10,10,100)\n",
    "print type(a).__name__\n",
    "a = a.reshape (a.shape[0],1)\n",
    "print (a.shape)\n"
   ]
  },
  {
   "cell_type": "code",
   "execution_count": 11,
   "metadata": {
    "collapsed": false
   },
   "outputs": [
    {
     "name": "stdout",
     "output_type": "stream",
     "text": [
      "<type 'numpy.int64'>\n"
     ]
    }
   ],
   "source": [
    "itrain = np.linspace (0,49,50).astype(int)\n",
    "print (type (itrain[0]))"
   ]
  },
  {
   "cell_type": "code",
   "execution_count": 17,
   "metadata": {
    "collapsed": false
   },
   "outputs": [
    {
     "name": "stdout",
     "output_type": "stream",
     "text": [
      "[[  9.50953291e-01   1.51992133e-12   1.40042936e-05   4.64156564e-07\n",
      "    4.19355998e-08   3.36701590e-02   3.00040747e-05   3.63541162e-07\n",
      "    1.53316364e-02   3.52122805e-08]]\n"
     ]
    }
   ],
   "source": [
    "train_x, train_y = datasets [0]\n",
    "\n",
    "entrada = train_x.get_value()[1000,:]\n",
    "entrada = entrada.reshape (1, entrada.shape[0])\n",
    "\n",
    "output = mlpLib.SimMLP (mlp,entrada)\n",
    "\n",
    "print output.eval()"
   ]
  },
  {
   "cell_type": "code",
   "execution_count": 16,
   "metadata": {
    "collapsed": false
   },
   "outputs": [
    {
     "name": "stdout",
     "output_type": "stream",
     "text": [
      "0\n"
     ]
    }
   ],
   "source": [
    "alvo = train_y.eval()\n",
    "print alvo[1000]"
   ]
  },
  {
   "cell_type": "code",
   "execution_count": null,
   "metadata": {
    "collapsed": true
   },
   "outputs": [],
   "source": []
  }
 ],
 "metadata": {
  "kernelspec": {
   "display_name": "Python 2",
   "language": "python",
   "name": "python2"
  },
  "language_info": {
   "codemirror_mode": {
    "name": "ipython",
    "version": 2
   },
   "file_extension": ".py",
   "mimetype": "text/x-python",
   "name": "python",
   "nbconvert_exporter": "python",
   "pygments_lexer": "ipython2",
   "version": "2.7.6"
  }
 },
 "nbformat": 4,
 "nbformat_minor": 0
}
