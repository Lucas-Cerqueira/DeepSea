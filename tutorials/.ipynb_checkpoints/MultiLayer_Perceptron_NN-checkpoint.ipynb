{
 "cells": [
  {
   "cell_type": "code",
   "execution_count": 1,
   "metadata": {
    "collapsed": true
   },
   "outputs": [],
   "source": [
    "import sys\n",
    "sys.path.append (\"../functions/\")"
   ]
  },
  {
   "cell_type": "code",
   "execution_count": 2,
   "metadata": {
    "collapsed": false,
    "scrolled": true
   },
   "outputs": [
    {
     "ename": "TypeError",
     "evalue": "CreateMLP() takes exactly 4 arguments (3 given)",
     "output_type": "error",
     "traceback": [
      "\u001b[1;31m---------------------------------------------------------------------------\u001b[0m",
      "\u001b[1;31mTypeError\u001b[0m                                 Traceback (most recent call last)",
      "\u001b[1;32m<ipython-input-2-0f90f229fbab>\u001b[0m in \u001b[0;36m<module>\u001b[1;34m()\u001b[0m\n\u001b[0;32m      7\u001b[0m \u001b[1;32mimport\u001b[0m \u001b[0mtheano\u001b[0m\u001b[1;33m.\u001b[0m\u001b[0mtensor\u001b[0m \u001b[1;32mas\u001b[0m \u001b[0mT\u001b[0m\u001b[1;33m\u001b[0m\u001b[0m\n\u001b[0;32m      8\u001b[0m \u001b[1;33m\u001b[0m\u001b[0m\n\u001b[1;32m----> 9\u001b[1;33m \u001b[0mmlp\u001b[0m \u001b[1;33m=\u001b[0m \u001b[0mmlpLib\u001b[0m\u001b[1;33m.\u001b[0m\u001b[0mCreateMLP\u001b[0m \u001b[1;33m(\u001b[0m\u001b[1;36m28\u001b[0m\u001b[1;33m*\u001b[0m\u001b[1;36m28\u001b[0m\u001b[1;33m,\u001b[0m\u001b[1;36m500\u001b[0m\u001b[1;33m,\u001b[0m\u001b[1;36m10\u001b[0m\u001b[1;33m)\u001b[0m\u001b[1;33m\u001b[0m\u001b[0m\n\u001b[0m\u001b[0;32m     10\u001b[0m \u001b[1;33m\u001b[0m\u001b[0m\n\u001b[0;32m     11\u001b[0m \u001b[0mmlp\u001b[0m\u001b[1;33m.\u001b[0m\u001b[0mopts\u001b[0m\u001b[1;33m.\u001b[0m\u001b[0mn_epochs\u001b[0m \u001b[1;33m=\u001b[0m \u001b[1;36m50\u001b[0m\u001b[1;33m\u001b[0m\u001b[0m\n",
      "\u001b[1;31mTypeError\u001b[0m: CreateMLP() takes exactly 4 arguments (3 given)"
     ]
    }
   ],
   "source": [
    "#Teste com MNIST\n",
    "\n",
    "from NeuralNetwork import MultiLayerPerceptron as mlpLib\n",
    "from NeuralNetwork import logistic_sgd\n",
    "import numpy as np\n",
    "import theano\n",
    "import theano.tensor as T\n",
    "\n",
    "mlp = mlpLib.CreateMLP (28*28,500,10,'neg_log')\n",
    "\n",
    "mlp.opts.n_epochs = 50\n",
    "mlp.opts.batch_size = 20\n",
    "\n",
    "datasets = logistic_sgd.load_data ('/home/lucas/Documents/IC/mnist.pkl.gz')\n",
    "\n",
    "#inputs = np.linspace (-10,10,100)\n",
    "#inputs = inputs.reshape (inputs.shape[0],1)\n",
    "#targets = np.sin(inputs) * 0.5\n",
    "#targets = targets.reshape (inputs.shape[0],1)\n",
    "\n",
    "temp = range (100)\n",
    "#np.random.shuffle (temp)\n",
    "\n",
    "#print temp\n",
    "\n",
    "itrain = temp [0:49]\n",
    "itest = temp [50:74]\n",
    "ival = temp [75:99]\n",
    "\n",
    "#print itrain\n",
    "\n",
    "mlpLib.TrainMLP (mlp, datasets, itrain, itest, ival)\n",
    "\n",
    "\n",
    "train_x, train_y = datasets [0]\n",
    "\n",
    "entrada = train_x.get_value()[0,:]\n",
    "entrada = entrada.reshape (1, entrada.shape[0])\n",
    "\n",
    "#mlpLib.SimMLP (mlp,entrada)\n"
   ]
  },
  {
   "cell_type": "code",
   "execution_count": 5,
   "metadata": {
    "collapsed": false
   },
   "outputs": [
    {
     "name": "stdout",
     "output_type": "stream",
     "text": [
      "TensorVariable\n"
     ]
    },
    {
     "data": {
      "text/plain": [
       "array([2, 3], dtype=int32)"
      ]
     },
     "execution_count": 5,
     "metadata": {},
     "output_type": "execute_result"
    }
   ],
   "source": [
    "x = T.ivector('x')\n",
    "print type(x).__name__\n",
    "f = theano.function([x], x+1)\n",
    "\n",
    "f([1, 2])"
   ]
  },
  {
   "cell_type": "code",
   "execution_count": 4,
   "metadata": {
    "collapsed": false
   },
   "outputs": [
    {
     "name": "stdout",
     "output_type": "stream",
     "text": [
      "ndarray\n",
      "(100, 1)\n"
     ]
    }
   ],
   "source": [
    "a = np.linspace (-10,10,100)\n",
    "print type(a).__name__\n",
    "a = a.reshape (a.shape[0],1)\n",
    "print (a.shape)\n"
   ]
  },
  {
   "cell_type": "code",
   "execution_count": 11,
   "metadata": {
    "collapsed": false
   },
   "outputs": [
    {
     "name": "stdout",
     "output_type": "stream",
     "text": [
      "<type 'numpy.int64'>\n"
     ]
    }
   ],
   "source": [
    "itrain = np.linspace (0,49,50).astype(int)\n",
    "print (type (itrain[0]))"
   ]
  },
  {
   "cell_type": "code",
   "execution_count": 17,
   "metadata": {
    "collapsed": false
   },
   "outputs": [
    {
     "name": "stdout",
     "output_type": "stream",
     "text": [
      "[[  9.50953291e-01   1.51992133e-12   1.40042936e-05   4.64156564e-07\n",
      "    4.19355998e-08   3.36701590e-02   3.00040747e-05   3.63541162e-07\n",
      "    1.53316364e-02   3.52122805e-08]]\n"
     ]
    }
   ],
   "source": [
    "train_x, train_y = datasets [0]\n",
    "\n",
    "entrada = train_x.get_value()[1000,:]\n",
    "entrada = entrada.reshape (1, entrada.shape[0])\n",
    "\n",
    "output = mlpLib.SimMLP (mlp,entrada)\n",
    "\n",
    "print output.eval()"
   ]
  },
  {
   "cell_type": "code",
   "execution_count": 10,
   "metadata": {
    "collapsed": false
   },
   "outputs": [
    {
     "name": "stdout",
     "output_type": "stream",
     "text": [
      "<type 'numpy.ndarray'>\n"
     ]
    }
   ],
   "source": [
    "matriz = np.zeros ([2,2])\n",
    "matriz_t = theano.shared (matriz, borrow=True)\n",
    "matriz_v = matriz_t.get_value()\n",
    "print type (matriz_v)"
   ]
  },
  {
   "cell_type": "code",
   "execution_count": null,
   "metadata": {
    "collapsed": true
   },
   "outputs": [],
   "source": []
  }
 ],
 "metadata": {
  "kernelspec": {
   "display_name": "Python 2",
   "language": "python",
   "name": "python2"
  },
  "language_info": {
   "codemirror_mode": {
    "name": "ipython",
    "version": 2
   },
   "file_extension": ".py",
   "mimetype": "text/x-python",
   "name": "python",
   "nbconvert_exporter": "python",
   "pygments_lexer": "ipython2",
   "version": "2.7.6"
  }
 },
 "nbformat": 4,
 "nbformat_minor": 0
}
