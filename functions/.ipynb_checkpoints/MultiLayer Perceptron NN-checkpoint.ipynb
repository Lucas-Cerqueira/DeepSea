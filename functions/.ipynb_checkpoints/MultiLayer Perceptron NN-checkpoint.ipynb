{
 "cells": [
  {
   "cell_type": "code",
   "execution_count": 1,
   "metadata": {
    "collapsed": false
   },
   "outputs": [
    {
     "name": "stdout",
     "output_type": "stream",
     "text": [
      "Loading data..\n",
      "Data loaded\n",
      "Setting parameters\n",
      "... building the model\n",
      "... training\n",
      "epoch 1, minibatch 2500/2500, validation error 9.620000 %\n",
      "     epoch 1, minibatch 2500/2500, test error of best model 10.090000 %\n",
      "Optimization complete. Best validation score of 9.620000 % obtained at iteration 2500, with test performance 10.090000 %\n"
     ]
    },
    {
     "name": "stderr",
     "output_type": "stream",
     "text": [
      "The code for file MultiLayerPerceptron.py ran for 0.38m\n"
     ]
    }
   ],
   "source": [
    "#Teste com MNIST\n",
    "\n",
    "from NeuralNetwork import MultiLayerPerceptron as mlpLib\n",
    "from NeuralNetwork import logistic_sgd\n",
    "import numpy as np\n",
    "import theano\n",
    "import theano.tensor as T\n",
    "\n",
    "mlp = mlpLib.CreateMLP (1,10,1)\n",
    "\n",
    "mlp.opts.n_epochs = 1\n",
    "\n",
    "#datasets = logistic_sgd.load_data ('/home/lucas/Documents/IC/mnist.pkl.gz')\n",
    "\n",
    "inputs = np.linspace (-10,10,100)\n",
    "inputs = reshape (inputs.shape[0],1)\n",
    "targets = np.sin(inputs) * 0.5\n",
    "targets = reshape (inputs.shape[0],1)\n",
    "\n",
    "itrain = np.linspace (0,49,50).astype(int)\n",
    "itest = np.array([0,1,2]).astype(int)\n",
    "ival = np.array([0,1,2]).astype(int)\n",
    "\n",
    "mlpLib.TrainMLP (mlp, inputs, targets, itrain, itest, ival)\n"
   ]
  },
  {
   "cell_type": "code",
   "execution_count": null,
   "metadata": {
    "collapsed": true
   },
   "outputs": [],
   "source": [
    "x = T.ivector('x')\n",
    "f = theano.function([x], x+1)\n",
    "\n",
    "f([1, 2])"
   ]
  },
  {
   "cell_type": "code",
   "execution_count": 2,
   "metadata": {
    "collapsed": false,
    "scrolled": false
   },
   "outputs": [
    {
     "name": "stdout",
     "output_type": "stream",
     "text": [
      "<type 'numpy.ndarray'>\n"
     ]
    }
   ],
   "source": [
    "mlpLib.SimMLP (mlp, datasets)"
   ]
  },
  {
   "cell_type": "code",
   "execution_count": null,
   "metadata": {
    "collapsed": false
   },
   "outputs": [],
   "source": [
    "type (mlp.hiddenLayer.W)"
   ]
  },
  {
   "cell_type": "code",
   "execution_count": 3,
   "metadata": {
    "collapsed": false
   },
   "outputs": [
    {
     "data": {
      "text/plain": [
       "numpy.ndarray"
      ]
     },
     "execution_count": 3,
     "metadata": {},
     "output_type": "execute_result"
    }
   ],
   "source": [
    "type (np.linspace(-10,10,100))"
   ]
  },
  {
   "cell_type": "code",
   "execution_count": 5,
   "metadata": {
    "collapsed": false
   },
   "outputs": [
    {
     "name": "stdout",
     "output_type": "stream",
     "text": [
      "(100,)\n",
      "(100, 1)\n"
     ]
    }
   ],
   "source": [
    "a = np.linspace (-10,10,100)\n",
    "print (a.shape)\n",
    "a = a.reshape (a.shape[0],1)\n",
    "print (a.shape)\n"
   ]
  },
  {
   "cell_type": "code",
   "execution_count": 11,
   "metadata": {
    "collapsed": false
   },
   "outputs": [
    {
     "name": "stdout",
     "output_type": "stream",
     "text": [
      "<type 'numpy.int64'>\n"
     ]
    }
   ],
   "source": [
    "itrain = np.linspace (0,49,50).astype(int)\n",
    "print (type (itrain[0]))"
   ]
  },
  {
   "cell_type": "code",
   "execution_count": null,
   "metadata": {
    "collapsed": true
   },
   "outputs": [],
   "source": []
  }
 ],
 "metadata": {
  "kernelspec": {
   "display_name": "Python 2",
   "language": "python",
   "name": "python2"
  },
  "language_info": {
   "codemirror_mode": {
    "name": "ipython",
    "version": 2
   },
   "file_extension": ".py",
   "mimetype": "text/x-python",
   "name": "python",
   "nbconvert_exporter": "python",
   "pygments_lexer": "ipython2",
   "version": "2.7.6"
  }
 },
 "nbformat": 4,
 "nbformat_minor": 0
}
